{
 "cells": [
  {
   "cell_type": "markdown",
   "metadata": {},
   "source": [
    "# Wasil Engel - Mini Lab 2 "
   ]
  },
  {
   "cell_type": "code",
   "execution_count": 1,
   "metadata": {},
   "outputs": [],
   "source": [
    "from r_wrapper import diftrans\n",
    "from r_wrapper import base\n",
    "from r_wrapper import stats\n",
    "import pandas as pd\n",
    "import numpy as np\n",
    "from matplotlib import pyplot as plt\n",
    "import seaborn as sns"
   ]
  },
  {
   "cell_type": "code",
   "execution_count": 2,
   "metadata": {},
   "outputs": [],
   "source": [
    "# I talked to Ricardo Saucedo and Gina Son about this assignment.  \n",
    "# Since we were given permission to do so, I'm just submitting my Jupyter notebook file.  "
   ]
  },
  {
   "cell_type": "markdown",
   "metadata": {},
   "source": [
    "## 3.2 Understanding the Data"
   ]
  },
  {
   "cell_type": "code",
   "execution_count": 3,
   "metadata": {},
   "outputs": [],
   "source": [
    "# This works once diftrans works!\n",
    "Beijing_sample = base.get(\"Beijing_sample\")\n",
    "Tianjin_sample = base.get(\"Tianjin_sample\")\n",
    "# Focus on: \n",
    "# • year: an integer denoting the month and year\n",
    "# • MSRP: manufacturers’ suggested retail price, i.e., the price of the car in renminbi (RMB)1 (good proxy for transaction price)\n",
    "# • sales: the total number of cars sold"
   ]
  },
  {
   "cell_type": "code",
   "execution_count": 4,
   "metadata": {},
   "outputs": [
    {
     "data": {
      "text/html": [
       "<div>\n",
       "<style scoped>\n",
       "    .dataframe tbody tr th:only-of-type {\n",
       "        vertical-align: middle;\n",
       "    }\n",
       "\n",
       "    .dataframe tbody tr th {\n",
       "        vertical-align: top;\n",
       "    }\n",
       "\n",
       "    .dataframe thead th {\n",
       "        text-align: right;\n",
       "    }\n",
       "</style>\n",
       "<table border=\"1\" class=\"dataframe\">\n",
       "  <thead>\n",
       "    <tr style=\"text-align: right;\">\n",
       "      <th></th>\n",
       "      <th>id</th>\n",
       "      <th>year</th>\n",
       "      <th>month</th>\n",
       "      <th>ym</th>\n",
       "      <th>city</th>\n",
       "      <th>MSRP</th>\n",
       "      <th>sales</th>\n",
       "      <th>swtprice</th>\n",
       "      <th>color</th>\n",
       "      <th>noticenum</th>\n",
       "      <th>postBeijing</th>\n",
       "      <th>postTianjin</th>\n",
       "      <th>Beijing</th>\n",
       "      <th>Tianjin</th>\n",
       "      <th>Shijiazhuang</th>\n",
       "      <th>policy_dummy</th>\n",
       "    </tr>\n",
       "  </thead>\n",
       "  <tbody>\n",
       "    <tr>\n",
       "      <th>1</th>\n",
       "      <td>416024</td>\n",
       "      <td>2010</td>\n",
       "      <td>1</td>\n",
       "      <td>14610.0</td>\n",
       "      <td>Beijing</td>\n",
       "      <td>139800</td>\n",
       "      <td>9.0</td>\n",
       "      <td>152.90585</td>\n",
       "      <td>灰</td>\n",
       "      <td>TV7161GLD</td>\n",
       "      <td>0.0</td>\n",
       "      <td>0.0</td>\n",
       "      <td>1.0</td>\n",
       "      <td>0.0</td>\n",
       "      <td>0.0</td>\n",
       "      <td>0</td>\n",
       "    </tr>\n",
       "    <tr>\n",
       "      <th>2</th>\n",
       "      <td>416025</td>\n",
       "      <td>2010</td>\n",
       "      <td>1</td>\n",
       "      <td>14610.0</td>\n",
       "      <td>Beijing</td>\n",
       "      <td>55900</td>\n",
       "      <td>145.0</td>\n",
       "      <td>152.90585</td>\n",
       "      <td>蓝</td>\n",
       "      <td>QCJ7151A5</td>\n",
       "      <td>0.0</td>\n",
       "      <td>0.0</td>\n",
       "      <td>1.0</td>\n",
       "      <td>0.0</td>\n",
       "      <td>0.0</td>\n",
       "      <td>0</td>\n",
       "    </tr>\n",
       "    <tr>\n",
       "      <th>3</th>\n",
       "      <td>416026</td>\n",
       "      <td>2010</td>\n",
       "      <td>1</td>\n",
       "      <td>14610.0</td>\n",
       "      <td>Beijing</td>\n",
       "      <td>207800</td>\n",
       "      <td>21.0</td>\n",
       "      <td>152.90585</td>\n",
       "      <td>黑</td>\n",
       "      <td>TV6460DLXM</td>\n",
       "      <td>0.0</td>\n",
       "      <td>0.0</td>\n",
       "      <td>1.0</td>\n",
       "      <td>0.0</td>\n",
       "      <td>0.0</td>\n",
       "      <td>0</td>\n",
       "    </tr>\n",
       "    <tr>\n",
       "      <th>4</th>\n",
       "      <td>416027</td>\n",
       "      <td>2010</td>\n",
       "      <td>1</td>\n",
       "      <td>14610.0</td>\n",
       "      <td>Beijing</td>\n",
       "      <td>105700</td>\n",
       "      <td>0.0</td>\n",
       "      <td>152.90585</td>\n",
       "      <td>黑灰</td>\n",
       "      <td>SDH6470M3</td>\n",
       "      <td>0.0</td>\n",
       "      <td>0.0</td>\n",
       "      <td>1.0</td>\n",
       "      <td>0.0</td>\n",
       "      <td>0.0</td>\n",
       "      <td>0</td>\n",
       "    </tr>\n",
       "    <tr>\n",
       "      <th>5</th>\n",
       "      <td>416028</td>\n",
       "      <td>2010</td>\n",
       "      <td>1</td>\n",
       "      <td>14610.0</td>\n",
       "      <td>Beijing</td>\n",
       "      <td>120800</td>\n",
       "      <td>3.0</td>\n",
       "      <td>152.90585</td>\n",
       "      <td>白</td>\n",
       "      <td>BH7165MX</td>\n",
       "      <td>0.0</td>\n",
       "      <td>0.0</td>\n",
       "      <td>1.0</td>\n",
       "      <td>0.0</td>\n",
       "      <td>0.0</td>\n",
       "      <td>0</td>\n",
       "    </tr>\n",
       "  </tbody>\n",
       "</table>\n",
       "</div>"
      ],
      "text/plain": [
       "       id  year  month       ym     city    MSRP  sales   swtprice color  \\\n",
       "1  416024  2010      1  14610.0  Beijing  139800    9.0  152.90585     灰   \n",
       "2  416025  2010      1  14610.0  Beijing   55900  145.0  152.90585     蓝   \n",
       "3  416026  2010      1  14610.0  Beijing  207800   21.0  152.90585     黑   \n",
       "4  416027  2010      1  14610.0  Beijing  105700    0.0  152.90585    黑灰   \n",
       "5  416028  2010      1  14610.0  Beijing  120800    3.0  152.90585     白   \n",
       "\n",
       "    noticenum  postBeijing  postTianjin  Beijing  Tianjin  Shijiazhuang  \\\n",
       "1   TV7161GLD          0.0          0.0      1.0      0.0           0.0   \n",
       "2   QCJ7151A5          0.0          0.0      1.0      0.0           0.0   \n",
       "3  TV6460DLXM          0.0          0.0      1.0      0.0           0.0   \n",
       "4   SDH6470M3          0.0          0.0      1.0      0.0           0.0   \n",
       "5    BH7165MX          0.0          0.0      1.0      0.0           0.0   \n",
       "\n",
       "   policy_dummy  \n",
       "1             0  \n",
       "2             0  \n",
       "3             0  \n",
       "4             0  \n",
       "5             0  "
      ]
     },
     "execution_count": 4,
     "metadata": {},
     "output_type": "execute_result"
    }
   ],
   "source": [
    "Beijing_sample.head() # 217155 rows × 16 columns"
   ]
  },
  {
   "cell_type": "code",
   "execution_count": 5,
   "metadata": {},
   "outputs": [
    {
     "data": {
      "text/html": [
       "<div>\n",
       "<style scoped>\n",
       "    .dataframe tbody tr th:only-of-type {\n",
       "        vertical-align: middle;\n",
       "    }\n",
       "\n",
       "    .dataframe tbody tr th {\n",
       "        vertical-align: top;\n",
       "    }\n",
       "\n",
       "    .dataframe thead th {\n",
       "        text-align: right;\n",
       "    }\n",
       "</style>\n",
       "<table border=\"1\" class=\"dataframe\">\n",
       "  <thead>\n",
       "    <tr style=\"text-align: right;\">\n",
       "      <th></th>\n",
       "      <th>id</th>\n",
       "      <th>year</th>\n",
       "      <th>month</th>\n",
       "      <th>ym</th>\n",
       "      <th>city</th>\n",
       "      <th>MSRP</th>\n",
       "      <th>sales</th>\n",
       "      <th>swtprice</th>\n",
       "      <th>color</th>\n",
       "      <th>noticenum</th>\n",
       "      <th>postBeijing</th>\n",
       "      <th>postTianjin</th>\n",
       "      <th>Beijing</th>\n",
       "      <th>Tianjin</th>\n",
       "      <th>Shijiazhuang</th>\n",
       "      <th>policy_dummy</th>\n",
       "    </tr>\n",
       "  </thead>\n",
       "  <tbody>\n",
       "    <tr>\n",
       "      <th>1</th>\n",
       "      <td>1737542</td>\n",
       "      <td>2010</td>\n",
       "      <td>1</td>\n",
       "      <td>14610.0</td>\n",
       "      <td>Tianjin</td>\n",
       "      <td>120800</td>\n",
       "      <td>2.0</td>\n",
       "      <td>121.25181</td>\n",
       "      <td>红</td>\n",
       "      <td>BH7165MX</td>\n",
       "      <td>0.0</td>\n",
       "      <td>0.0</td>\n",
       "      <td>0.0</td>\n",
       "      <td>1.0</td>\n",
       "      <td>0.0</td>\n",
       "      <td>0</td>\n",
       "    </tr>\n",
       "    <tr>\n",
       "      <th>2</th>\n",
       "      <td>1737543</td>\n",
       "      <td>2010</td>\n",
       "      <td>1</td>\n",
       "      <td>14610.0</td>\n",
       "      <td>Tianjin</td>\n",
       "      <td>120800</td>\n",
       "      <td>3.0</td>\n",
       "      <td>121.25181</td>\n",
       "      <td>灰</td>\n",
       "      <td>LZ6511AQ3S</td>\n",
       "      <td>0.0</td>\n",
       "      <td>0.0</td>\n",
       "      <td>0.0</td>\n",
       "      <td>1.0</td>\n",
       "      <td>0.0</td>\n",
       "      <td>0</td>\n",
       "    </tr>\n",
       "    <tr>\n",
       "      <th>3</th>\n",
       "      <td>1737544</td>\n",
       "      <td>2010</td>\n",
       "      <td>1</td>\n",
       "      <td>14610.0</td>\n",
       "      <td>Tianjin</td>\n",
       "      <td>288000</td>\n",
       "      <td>4.0</td>\n",
       "      <td>121.25181</td>\n",
       "      <td>黄</td>\n",
       "      <td>CAF7204A</td>\n",
       "      <td>0.0</td>\n",
       "      <td>0.0</td>\n",
       "      <td>0.0</td>\n",
       "      <td>1.0</td>\n",
       "      <td>0.0</td>\n",
       "      <td>0</td>\n",
       "    </tr>\n",
       "    <tr>\n",
       "      <th>4</th>\n",
       "      <td>1737545</td>\n",
       "      <td>2010</td>\n",
       "      <td>1</td>\n",
       "      <td>14610.0</td>\n",
       "      <td>Tianjin</td>\n",
       "      <td>66800</td>\n",
       "      <td>0.0</td>\n",
       "      <td>121.25181</td>\n",
       "      <td>灰</td>\n",
       "      <td>MR7150B4</td>\n",
       "      <td>0.0</td>\n",
       "      <td>0.0</td>\n",
       "      <td>0.0</td>\n",
       "      <td>1.0</td>\n",
       "      <td>0.0</td>\n",
       "      <td>0</td>\n",
       "    </tr>\n",
       "    <tr>\n",
       "      <th>5</th>\n",
       "      <td>1737546</td>\n",
       "      <td>2010</td>\n",
       "      <td>1</td>\n",
       "      <td>14610.0</td>\n",
       "      <td>Tianjin</td>\n",
       "      <td>49800</td>\n",
       "      <td>3.0</td>\n",
       "      <td>121.25181</td>\n",
       "      <td>红</td>\n",
       "      <td>LZW7120K3Q</td>\n",
       "      <td>0.0</td>\n",
       "      <td>0.0</td>\n",
       "      <td>0.0</td>\n",
       "      <td>1.0</td>\n",
       "      <td>0.0</td>\n",
       "      <td>0</td>\n",
       "    </tr>\n",
       "  </tbody>\n",
       "</table>\n",
       "</div>"
      ],
      "text/plain": [
       "        id  year  month       ym     city    MSRP  sales   swtprice color  \\\n",
       "1  1737542  2010      1  14610.0  Tianjin  120800    2.0  121.25181     红   \n",
       "2  1737543  2010      1  14610.0  Tianjin  120800    3.0  121.25181     灰   \n",
       "3  1737544  2010      1  14610.0  Tianjin  288000    4.0  121.25181     黄   \n",
       "4  1737545  2010      1  14610.0  Tianjin   66800    0.0  121.25181     灰   \n",
       "5  1737546  2010      1  14610.0  Tianjin   49800    3.0  121.25181     红   \n",
       "\n",
       "    noticenum  postBeijing  postTianjin  Beijing  Tianjin  Shijiazhuang  \\\n",
       "1    BH7165MX          0.0          0.0      0.0      1.0           0.0   \n",
       "2  LZ6511AQ3S          0.0          0.0      0.0      1.0           0.0   \n",
       "3    CAF7204A          0.0          0.0      0.0      1.0           0.0   \n",
       "4    MR7150B4          0.0          0.0      0.0      1.0           0.0   \n",
       "5  LZW7120K3Q          0.0          0.0      0.0      1.0           0.0   \n",
       "\n",
       "   policy_dummy  \n",
       "1             0  \n",
       "2             0  \n",
       "3             0  \n",
       "4             0  \n",
       "5             0  "
      ]
     },
     "execution_count": 5,
     "metadata": {},
     "output_type": "execute_result"
    }
   ],
   "source": [
    "Tianjin_sample.head() # 194468 rows × 16 columns"
   ]
  },
  {
   "cell_type": "markdown",
   "metadata": {},
   "source": [
    "## 3.3 Clean Data of Beijing and Tianjin Car Sales"
   ]
  },
  {
   "cell_type": "code",
   "execution_count": 6,
   "metadata": {},
   "outputs": [],
   "source": [
    "# keep 2010 and 2011 data only\n",
    "Beijing = Beijing_sample[(Beijing_sample['year']>= 2010) & (Beijing_sample['year'] < 2012)]"
   ]
  },
  {
   "cell_type": "code",
   "execution_count": 7,
   "metadata": {},
   "outputs": [],
   "source": [
    "# collect unique MSRP values (cf. above: good proxy for car prices)\n",
    "uniqueMSRP = pd.DataFrame(Beijing.MSRP.unique()).rename(columns={0:'MSRP'})"
   ]
  },
  {
   "cell_type": "code",
   "execution_count": 8,
   "metadata": {},
   "outputs": [],
   "source": [
    "# aggregate sales at each price for 2010 (pre-lottery)\n",
    "Beijing10_sales = Beijing[(Beijing['year']== 2010)].groupby('MSRP').aggregate({'sales':[sum]})\n",
    "Beijing10_sales = Beijing10_sales.unstack().reset_index().rename_axis(None, axis=1)\n",
    "Beijing10_sales = Beijing10_sales.drop(columns=['level_0', 'level_1']).rename(columns={0:'count'})"
   ]
  },
  {
   "cell_type": "code",
   "execution_count": 9,
   "metadata": {},
   "outputs": [
    {
     "data": {
      "text/html": [
       "<div>\n",
       "<style scoped>\n",
       "    .dataframe tbody tr th:only-of-type {\n",
       "        vertical-align: middle;\n",
       "    }\n",
       "\n",
       "    .dataframe tbody tr th {\n",
       "        vertical-align: top;\n",
       "    }\n",
       "\n",
       "    .dataframe thead th {\n",
       "        text-align: right;\n",
       "    }\n",
       "</style>\n",
       "<table border=\"1\" class=\"dataframe\">\n",
       "  <thead>\n",
       "    <tr style=\"text-align: right;\">\n",
       "      <th></th>\n",
       "      <th>MSRP</th>\n",
       "      <th>count</th>\n",
       "    </tr>\n",
       "  </thead>\n",
       "  <tbody>\n",
       "    <tr>\n",
       "      <th>482</th>\n",
       "      <td>20800</td>\n",
       "      <td>0.0</td>\n",
       "    </tr>\n",
       "    <tr>\n",
       "      <th>374</th>\n",
       "      <td>29800</td>\n",
       "      <td>47.0</td>\n",
       "    </tr>\n",
       "    <tr>\n",
       "      <th>338</th>\n",
       "      <td>32900</td>\n",
       "      <td>3153.0</td>\n",
       "    </tr>\n",
       "    <tr>\n",
       "      <th>227</th>\n",
       "      <td>33800</td>\n",
       "      <td>3678.0</td>\n",
       "    </tr>\n",
       "    <tr>\n",
       "      <th>388</th>\n",
       "      <td>34800</td>\n",
       "      <td>592.0</td>\n",
       "    </tr>\n",
       "  </tbody>\n",
       "</table>\n",
       "</div>"
      ],
      "text/plain": [
       "      MSRP   count\n",
       "482  20800     0.0\n",
       "374  29800    47.0\n",
       "338  32900  3153.0\n",
       "227  33800  3678.0\n",
       "388  34800   592.0"
      ]
     },
     "execution_count": 9,
     "metadata": {},
     "output_type": "execute_result"
    }
   ],
   "source": [
    "# merge the MSRP and sales\n",
    "Beijing_pre = uniqueMSRP.merge(Beijing10_sales, how='left', on = \"MSRP\")\n",
    "Beijing_pre[['count']] = Beijing_pre[['count']].fillna(value=0)\n",
    "Beijing_pre = Beijing_pre.sort_values('MSRP')\n",
    "\n",
    "# preview data\n",
    "Beijing_pre.head() # 513 rows × 2 columns"
   ]
  },
  {
   "cell_type": "code",
   "execution_count": 10,
   "metadata": {},
   "outputs": [],
   "source": [
    "# Exercise 3.1"
   ]
  },
  {
   "cell_type": "code",
   "execution_count": 11,
   "metadata": {},
   "outputs": [],
   "source": [
    "# a Beijing_post"
   ]
  },
  {
   "cell_type": "code",
   "execution_count": 12,
   "metadata": {},
   "outputs": [
    {
     "data": {
      "text/html": [
       "<div>\n",
       "<style scoped>\n",
       "    .dataframe tbody tr th:only-of-type {\n",
       "        vertical-align: middle;\n",
       "    }\n",
       "\n",
       "    .dataframe tbody tr th {\n",
       "        vertical-align: top;\n",
       "    }\n",
       "\n",
       "    .dataframe thead th {\n",
       "        text-align: right;\n",
       "    }\n",
       "</style>\n",
       "<table border=\"1\" class=\"dataframe\">\n",
       "  <thead>\n",
       "    <tr style=\"text-align: right;\">\n",
       "      <th></th>\n",
       "      <th>MSRP</th>\n",
       "      <th>count</th>\n",
       "    </tr>\n",
       "  </thead>\n",
       "  <tbody>\n",
       "    <tr>\n",
       "      <th>482</th>\n",
       "      <td>20800</td>\n",
       "      <td>23.0</td>\n",
       "    </tr>\n",
       "    <tr>\n",
       "      <th>374</th>\n",
       "      <td>29800</td>\n",
       "      <td>0.0</td>\n",
       "    </tr>\n",
       "    <tr>\n",
       "      <th>338</th>\n",
       "      <td>32900</td>\n",
       "      <td>1393.0</td>\n",
       "    </tr>\n",
       "    <tr>\n",
       "      <th>227</th>\n",
       "      <td>33800</td>\n",
       "      <td>4.0</td>\n",
       "    </tr>\n",
       "    <tr>\n",
       "      <th>388</th>\n",
       "      <td>34800</td>\n",
       "      <td>189.0</td>\n",
       "    </tr>\n",
       "  </tbody>\n",
       "</table>\n",
       "</div>"
      ],
      "text/plain": [
       "      MSRP   count\n",
       "482  20800    23.0\n",
       "374  29800     0.0\n",
       "338  32900  1393.0\n",
       "227  33800     4.0\n",
       "388  34800   189.0"
      ]
     },
     "execution_count": 12,
     "metadata": {},
     "output_type": "execute_result"
    }
   ],
   "source": [
    "# aggregate sales at each price for 2011 (post-lottery)\n",
    "Beijing11_sales = Beijing[(Beijing['year']== 2011)].groupby('MSRP').aggregate({'sales':[sum]})\n",
    "Beijing11_sales = Beijing11_sales.unstack().reset_index().rename_axis(None, axis=1)\n",
    "Beijing11_sales = Beijing11_sales.drop(columns=['level_0', 'level_1']).rename(columns={0:'count'})\n",
    "# merge the MSRP and sales\n",
    "Beijing_post = uniqueMSRP.merge(Beijing11_sales, how='left', on = \"MSRP\")\n",
    "Beijing_post[['count']] = Beijing_post[['count']].fillna(value=0)\n",
    "Beijing_post = Beijing_post.sort_values('MSRP')\n",
    "# preview data\n",
    "Beijing_post.head() # 513 rows × 2 columns"
   ]
  },
  {
   "cell_type": "code",
   "execution_count": 13,
   "metadata": {},
   "outputs": [],
   "source": [
    "# b Tianjin_pre"
   ]
  },
  {
   "cell_type": "code",
   "execution_count": 14,
   "metadata": {},
   "outputs": [],
   "source": [
    "# keep 2010 and 2011 data only\n",
    "Tianjin = Tianjin_sample[(Tianjin_sample['year']>= 2010) & (Tianjin_sample['year'] < 2012)]\n",
    "# collect unique MSRP values (cf. above: good proxy for car prices)\n",
    "uniqueMSRP = pd.DataFrame(Tianjin.MSRP.unique()).rename(columns={0:'MSRP'})"
   ]
  },
  {
   "cell_type": "code",
   "execution_count": 15,
   "metadata": {},
   "outputs": [
    {
     "data": {
      "text/html": [
       "<div>\n",
       "<style scoped>\n",
       "    .dataframe tbody tr th:only-of-type {\n",
       "        vertical-align: middle;\n",
       "    }\n",
       "\n",
       "    .dataframe tbody tr th {\n",
       "        vertical-align: top;\n",
       "    }\n",
       "\n",
       "    .dataframe thead th {\n",
       "        text-align: right;\n",
       "    }\n",
       "</style>\n",
       "<table border=\"1\" class=\"dataframe\">\n",
       "  <thead>\n",
       "    <tr style=\"text-align: right;\">\n",
       "      <th></th>\n",
       "      <th>MSRP</th>\n",
       "      <th>count</th>\n",
       "    </tr>\n",
       "  </thead>\n",
       "  <tbody>\n",
       "    <tr>\n",
       "      <th>448</th>\n",
       "      <td>20800</td>\n",
       "      <td>0.0</td>\n",
       "    </tr>\n",
       "    <tr>\n",
       "      <th>464</th>\n",
       "      <td>28800</td>\n",
       "      <td>0.0</td>\n",
       "    </tr>\n",
       "    <tr>\n",
       "      <th>358</th>\n",
       "      <td>29800</td>\n",
       "      <td>51.0</td>\n",
       "    </tr>\n",
       "    <tr>\n",
       "      <th>494</th>\n",
       "      <td>30900</td>\n",
       "      <td>0.0</td>\n",
       "    </tr>\n",
       "    <tr>\n",
       "      <th>327</th>\n",
       "      <td>32900</td>\n",
       "      <td>599.0</td>\n",
       "    </tr>\n",
       "  </tbody>\n",
       "</table>\n",
       "</div>"
      ],
      "text/plain": [
       "      MSRP  count\n",
       "448  20800    0.0\n",
       "464  28800    0.0\n",
       "358  29800   51.0\n",
       "494  30900    0.0\n",
       "327  32900  599.0"
      ]
     },
     "execution_count": 15,
     "metadata": {},
     "output_type": "execute_result"
    }
   ],
   "source": [
    "# aggregate sales at each price for 2011 (post-lottery)\n",
    "Tianjin10_sales = Tianjin[(Tianjin['year']== 2010)].groupby('MSRP').aggregate({'sales':[sum]})\n",
    "Tianjin10_sales = Tianjin10_sales.unstack().reset_index().rename_axis(None, axis=1)\n",
    "Tianjin10_sales = Tianjin10_sales.drop(columns=['level_0', 'level_1']).rename(columns={0:'count'})\n",
    "# merge the MSRP and sales\n",
    "Tianjin_pre = uniqueMSRP.merge(Tianjin10_sales, how='left', on = \"MSRP\")\n",
    "Tianjin_pre[['count']] = Tianjin_pre[['count']].fillna(value=0)\n",
    "Tianjin_pre = Tianjin_pre.sort_values('MSRP')\n",
    "# preview data\n",
    "Tianjin_pre.head() # 513 rows × 2 columns"
   ]
  },
  {
   "cell_type": "code",
   "execution_count": 16,
   "metadata": {},
   "outputs": [],
   "source": [
    "# c Tianjin_post"
   ]
  },
  {
   "cell_type": "code",
   "execution_count": 17,
   "metadata": {},
   "outputs": [
    {
     "data": {
      "text/html": [
       "<div>\n",
       "<style scoped>\n",
       "    .dataframe tbody tr th:only-of-type {\n",
       "        vertical-align: middle;\n",
       "    }\n",
       "\n",
       "    .dataframe tbody tr th {\n",
       "        vertical-align: top;\n",
       "    }\n",
       "\n",
       "    .dataframe thead th {\n",
       "        text-align: right;\n",
       "    }\n",
       "</style>\n",
       "<table border=\"1\" class=\"dataframe\">\n",
       "  <thead>\n",
       "    <tr style=\"text-align: right;\">\n",
       "      <th></th>\n",
       "      <th>MSRP</th>\n",
       "      <th>count</th>\n",
       "    </tr>\n",
       "  </thead>\n",
       "  <tbody>\n",
       "    <tr>\n",
       "      <th>448</th>\n",
       "      <td>20800</td>\n",
       "      <td>23.0</td>\n",
       "    </tr>\n",
       "    <tr>\n",
       "      <th>464</th>\n",
       "      <td>28800</td>\n",
       "      <td>7.0</td>\n",
       "    </tr>\n",
       "    <tr>\n",
       "      <th>358</th>\n",
       "      <td>29800</td>\n",
       "      <td>5.0</td>\n",
       "    </tr>\n",
       "    <tr>\n",
       "      <th>494</th>\n",
       "      <td>30900</td>\n",
       "      <td>1.0</td>\n",
       "    </tr>\n",
       "    <tr>\n",
       "      <th>327</th>\n",
       "      <td>32900</td>\n",
       "      <td>948.0</td>\n",
       "    </tr>\n",
       "  </tbody>\n",
       "</table>\n",
       "</div>"
      ],
      "text/plain": [
       "      MSRP  count\n",
       "448  20800   23.0\n",
       "464  28800    7.0\n",
       "358  29800    5.0\n",
       "494  30900    1.0\n",
       "327  32900  948.0"
      ]
     },
     "execution_count": 17,
     "metadata": {},
     "output_type": "execute_result"
    }
   ],
   "source": [
    "# aggregate sales at each price for 2011 (post-lottery)\n",
    "Tianjin11_sales = Tianjin[(Tianjin['year']== 2011)].groupby('MSRP').aggregate({'sales':[sum]})\n",
    "Tianjin11_sales = Tianjin11_sales.unstack().reset_index().rename_axis(None, axis=1)\n",
    "Tianjin11_sales = Tianjin11_sales.drop(columns=['level_0', 'level_1']).rename(columns={0:'count'})\n",
    "# merge the MSRP and sales\n",
    "Tianjin_post = uniqueMSRP.merge(Tianjin11_sales, how='left', on = \"MSRP\")\n",
    "Tianjin_post[['count']] = Tianjin_post[['count']].fillna(value=0)\n",
    "Tianjin_post = Tianjin_post.sort_values('MSRP')\n",
    "# preview data\n",
    "Tianjin_post.head() # 513 rows × 2 columns"
   ]
  },
  {
   "cell_type": "markdown",
   "metadata": {},
   "source": [
    "## 3.4 Visualize Beijing Car Sales"
   ]
  },
  {
   "cell_type": "code",
   "execution_count": 18,
   "metadata": {},
   "outputs": [],
   "source": [
    "# uncount\n",
    "df2 = Beijing_pre.pop('count')\n",
    "Beijing_distribution_pre = pd.DataFrame(Beijing_pre.values.repeat(df2, axis=0), columns=Beijing_pre.columns)"
   ]
  },
  {
   "cell_type": "code",
   "execution_count": 19,
   "metadata": {},
   "outputs": [],
   "source": [
    "df3 = Beijing_post.pop('count')\n",
    "Beijing_distribution_post = pd.DataFrame(Beijing_post.values.repeat(df3, axis=0), columns=Beijing_post.columns)"
   ]
  },
  {
   "cell_type": "code",
   "execution_count": 20,
   "metadata": {},
   "outputs": [
    {
     "name": "stderr",
     "output_type": "stream",
     "text": [
      "No handles with labels found to put in legend.\n"
     ]
    },
    {
     "data": {
      "text/plain": [
       "<matplotlib.legend.Legend at 0x137972af0>"
      ]
     },
     "execution_count": 20,
     "metadata": {},
     "output_type": "execute_result"
    },
    {
     "data": {
      "image/png": "[encoded data removed]",
      "text/plain": [
       "<Figure size 432x288 with 1 Axes>"
      ]
     },
     "metadata": {
      "needs_background": "light"
     },
     "output_type": "display_data"
    }
   ],
   "source": [
    "fig, ax = plt.subplots()\n",
    "for a in [Beijing_distribution_pre, Beijing_distribution_post]:\n",
    "    sns.distplot(a/1000, ax=ax, kde=False, norm_hist=True) # note: norm_hist=True\n",
    "plt.xlabel(\"MSRP(1000RMB)\", size=14)\n",
    "plt.ylabel(\"Density\", size=14)\n",
    "plt.title(\"Pre-lottery (blue) vs. Post-lottery (brown)\\n Sales Distributions of Beijing Cars\", size=18)\n",
    "plt.legend(loc='upper right')\n",
    "# ax.set_xlim([0, 1200])"
   ]
  },
  {
   "cell_type": "code",
   "execution_count": 21,
   "metadata": {},
   "outputs": [],
   "source": [
    "# Exercise 3.2"
   ]
  },
  {
   "cell_type": "code",
   "execution_count": 22,
   "metadata": {},
   "outputs": [],
   "source": [
    "# a "
   ]
  },
  {
   "cell_type": "code",
   "execution_count": 23,
   "metadata": {},
   "outputs": [],
   "source": [
    "# uncount\n",
    "df2 = Tianjin_pre.pop('count')\n",
    "Tianjin_distribution_pre = pd.DataFrame(Tianjin_pre.values.repeat(df2, axis=0), columns=Tianjin_pre.columns)"
   ]
  },
  {
   "cell_type": "code",
   "execution_count": 24,
   "metadata": {},
   "outputs": [],
   "source": [
    "df3 = Tianjin_post.pop('count')\n",
    "Tianjin_distribution_post = pd.DataFrame(Tianjin_post.values.repeat(df3, axis=0), columns=Tianjin_post.columns)"
   ]
  },
  {
   "cell_type": "code",
   "execution_count": 25,
   "metadata": {},
   "outputs": [
    {
     "name": "stderr",
     "output_type": "stream",
     "text": [
      "No handles with labels found to put in legend.\n"
     ]
    },
    {
     "data": {
      "text/plain": [
       "<matplotlib.legend.Legend at 0x12e8e90a0>"
      ]
     },
     "execution_count": 25,
     "metadata": {},
     "output_type": "execute_result"
    },
    {
     "data": {
      "image/png": "[encoded data removed]",
      "text/plain": [
       "<Figure size 432x288 with 1 Axes>"
      ]
     },
     "metadata": {
      "needs_background": "light"
     },
     "output_type": "display_data"
    }
   ],
   "source": [
    "fig, ax = plt.subplots()\n",
    "for a in [Tianjin_distribution_pre, Tianjin_distribution_post]:\n",
    "    sns.distplot(a/1000, ax=ax, kde=False, norm_hist=True) # note: norm_hist=True\n",
    "plt.xlabel(\"MSRP(1000RMB)\", size=14)\n",
    "plt.ylabel(\"Density\", size=14)\n",
    "plt.title(\"Pre-lottery (blue) vs. Post-lottery (brown)\\n Sales Distributions of Tianjin Cars\", size=18)\n",
    "plt.legend(loc='upper right')\n",
    "# ax.set_xlim([0, 1200])"
   ]
  },
  {
   "cell_type": "code",
   "execution_count": 26,
   "metadata": {},
   "outputs": [],
   "source": [
    "# b \n",
    "# Compare and contrast the shift between the Beijing distributions with the shift between the \n",
    "# Tianjin distributions. Based on the shift in Tianjin car sales, should we be surprised to \n",
    "# see the shift in Beijing car sales?"
   ]
  },
  {
   "cell_type": "code",
   "execution_count": 27,
   "metadata": {},
   "outputs": [],
   "source": [
    "# Based on the shift in Tianjin car sales, the shift in Beijing car sales is surprising. \n",
    "# Keeping in mind that the distributions have been normalized which allows for comparison \n",
    "# between both the years and the regions, differences between the Tianjin and Beijing \n",
    "# distributions can be noted. For example, the shift to the right towards more experience cars\n",
    "# is merely noticeable in the Tianjin data: in 2010 (blue), car sales peak for the cheapest\n",
    "# car on the far left of distribution, however, in 2011 (orange), sales peak at a slightly \n",
    "# more expensive car, but not by much. The right tail looks rather similar in 2010 and 2011. \n",
    "# The Beijing distribution, on the other side, looks different. First, note how the neat \n",
    "# overlap of the Tianjin data suggesting that the car sales across the two periods were \n",
    "# constant. In Beijing, however, the 2011 car sales distribution is much lower given the \n",
    "# introduction of the policy that aims at reducing traffic and pollution. Hence, that explains\n",
    "# why the distribution is lower in general. However, given the normalization process, it still\n",
    "# allows us to compare the two shapes of the pre- and post-lottery distributions for Beijing: \n",
    "# unlike Tianjin, the Beijing distributions are rather similar on the left side of the \n",
    "# distribution peeking at similar values at around x = 100, however, the right-end tails \n",
    "# differ quite a bit! Despite selling less cars in general in 2011, the height of the bars \n",
    "# at the lower right-hand tail compare in size and as such in magnitude suggesting that \n",
    "# relative to the car sales distributions in 2011 as well as 2010, the sell of expensive \n",
    "# cars has significantly increased. That's interesting and worth investigating in more detail!\n",
    "# As noted in section 3.1, this may suggest the existence of a black market where licenses \n",
    "# are being obtained by wealthy Beijing'ers who can afford to buy more expensive cars. \n",
    "# On a side note, note how the scale of the x-axis remains constant (pricing same across \n",
    "# cities), while the scale of the y-axis changes from a max of approx. 100,000 down to 40,000\n",
    "# given the different population and hence sales sizes of the two cities, Beijing v. Tianjin, \n",
    "# respectively. \n",
    "\n",
    "# Lastly, given that Beijing introduced the lottery policy but Tianjin didn't, the slight \n",
    "# spike in more expensive car sales in Tianjin could also be a *spill-over* from Beijing. The \n",
    "# two cities are only a 1-hour drive apart, so, some people from Beijing might have gone to \n",
    "# Tianjin to buy a car causing the sales distribution there to slightly shift to the right too. "
   ]
  },
  {
   "cell_type": "markdown",
   "metadata": {},
   "source": [
    "## 3.5 Compute Before-and-After Estimator"
   ]
  },
  {
   "cell_type": "code",
   "execution_count": 28,
   "metadata": {},
   "outputs": [],
   "source": [
    "# Exercise 3.3"
   ]
  },
  {
   "cell_type": "code",
   "execution_count": 29,
   "metadata": {},
   "outputs": [],
   "source": [
    "# What if difference just due to sampling variation and the Beijing distributions for 2010 \n",
    "# and 2011 are actually the same so that the true transport cost is at 0 per cent? \n",
    "# To prove this claim wrong, transport costs from repeated samples must be non-zero!  \n",
    "# a) build one placebo distribution with the same number of observations like P Beijing BEFORE\n",
    "# b) build another placebo with the same number of observations like P Beijing AFTER\n",
    "# Note: both are sampled from same distribution, P Beijing Before, but different sizes"
   ]
  },
  {
   "cell_type": "code",
   "execution_count": 30,
   "metadata": {},
   "outputs": [
    {
     "data": {
      "text/html": [
       "<div>\n",
       "<style scoped>\n",
       "    .dataframe tbody tr th:only-of-type {\n",
       "        vertical-align: middle;\n",
       "    }\n",
       "\n",
       "    .dataframe tbody tr th {\n",
       "        vertical-align: top;\n",
       "    }\n",
       "\n",
       "    .dataframe thead th {\n",
       "        text-align: right;\n",
       "    }\n",
       "</style>\n",
       "<table border=\"1\" class=\"dataframe\">\n",
       "  <thead>\n",
       "    <tr style=\"text-align: right;\">\n",
       "      <th></th>\n",
       "      <th>sample1</th>\n",
       "      <th>sample2</th>\n",
       "    </tr>\n",
       "  </thead>\n",
       "  <tbody>\n",
       "    <tr>\n",
       "      <th>0</th>\n",
       "      <td>0.258594</td>\n",
       "      <td>1.309787</td>\n",
       "    </tr>\n",
       "    <tr>\n",
       "      <th>1</th>\n",
       "      <td>0.151054</td>\n",
       "      <td>0.314449</td>\n",
       "    </tr>\n",
       "    <tr>\n",
       "      <th>2</th>\n",
       "      <td>-2.089034</td>\n",
       "      <td>0.043868</td>\n",
       "    </tr>\n",
       "    <tr>\n",
       "      <th>3</th>\n",
       "      <td>0.591708</td>\n",
       "      <td>1.034616</td>\n",
       "    </tr>\n",
       "    <tr>\n",
       "      <th>4</th>\n",
       "      <td>-0.861662</td>\n",
       "      <td>0.995136</td>\n",
       "    </tr>\n",
       "  </tbody>\n",
       "</table>\n",
       "</div>"
      ],
      "text/plain": [
       "    sample1   sample2\n",
       "0  0.258594  1.309787\n",
       "1  0.151054  0.314449\n",
       "2 -2.089034  0.043868\n",
       "3  0.591708  1.034616\n",
       "4 -0.861662  0.995136"
      ]
     },
     "execution_count": 30,
     "metadata": {},
     "output_type": "execute_result"
    }
   ],
   "source": [
    "base.set_seed(0) # for reproducibility\n",
    "n_observations = 100000\n",
    "placebo_demonstration = pd.DataFrame({'sample1': np.random.normal(0, 1, n_observations), 'sample2': np.random.normal(0, 1, n_observations)})\n",
    "placebo_demonstration.head()"
   ]
  },
  {
   "cell_type": "code",
   "execution_count": 31,
   "metadata": {},
   "outputs": [
    {
     "data": {
      "text/plain": [
       "Text(0.5, 1.0, 'Two Samples from Standard Normal Distribution')"
      ]
     },
     "execution_count": 31,
     "metadata": {},
     "output_type": "execute_result"
    },
    {
     "data": {
      "image/png": "[encoded data removed]",
      "text/plain": [
       "<Figure size 432x288 with 1 Axes>"
      ]
     },
     "metadata": {
      "needs_background": "light"
     },
     "output_type": "display_data"
    }
   ],
   "source": [
    "fig, ax = plt.subplots()\n",
    "ax = sns.distplot(placebo_demonstration['sample1'], ax=ax, kde=False, norm_hist=True)\n",
    "ax = sns.distplot(placebo_demonstration['sample2'], ax=ax, kde=False, norm_hist=True)\n",
    "plt.xlabel(\"Support\", size=12)\n",
    "plt.ylabel(\"Density\", size=14)\n",
    "plt.title(\"Two Samples from Standard Normal Distribution\", size=18)"
   ]
  },
  {
   "cell_type": "code",
   "execution_count": 32,
   "metadata": {},
   "outputs": [],
   "source": [
    "# a)\n",
    "# build one placebo distribution with the same number of observations like P Beijing BEFORE"
   ]
  },
  {
   "cell_type": "code",
   "execution_count": 33,
   "metadata": {},
   "outputs": [],
   "source": [
    "# re-run lines 5-8 to get 513 rows, not just 504 rows\n",
    "# keep 2010 and 2011 data only\n",
    "Beijing = Beijing_sample[(Beijing_sample['year']>= 2010) & (Beijing_sample['year'] < 2012)]\n",
    "# collect unique MSRP values (cf. above: good proxy for car prices)\n",
    "uniqueMSRP = pd.DataFrame(Beijing.MSRP.unique()).rename(columns={0:'MSRP'})\n",
    "# aggregate sales at each price for 2010 (pre-lottery)\n",
    "Beijing10_sales = Beijing[(Beijing['year']== 2010)].groupby('MSRP').aggregate({'sales':[sum]})\n",
    "Beijing10_sales = Beijing10_sales.unstack().reset_index().rename_axis(None, axis=1)\n",
    "Beijing10_sales = Beijing10_sales.drop(columns=['level_0', 'level_1']).rename(columns={0:'count'})\n",
    "# merge the MSRP and sales\n",
    "Beijing_pre = uniqueMSRP.merge(Beijing10_sales, how='left', on = \"MSRP\")\n",
    "Beijing_pre[['count']] = Beijing_pre[['count']].fillna(value=0)\n",
    "Beijing_pre = Beijing_pre.sort_values('MSRP')\n",
    "# preview data\n",
    "# Beijing_pre.head() # 513 rows × 2 columns"
   ]
  },
  {
   "cell_type": "code",
   "execution_count": 34,
   "metadata": {},
   "outputs": [
    {
     "name": "stdout",
     "output_type": "stream",
     "text": [
      "        MSRP  count\n",
      "482    20800      0\n",
      "374    29800     50\n",
      "338    32900   3136\n",
      "227    33800   3597\n",
      "388    34800    539\n",
      "..       ...    ...\n",
      "263   703600    350\n",
      "7     770000    101\n",
      "314   800400      2\n",
      "433   998000      6\n",
      "5    1127800    325\n",
      "\n",
      "[513 rows x 2 columns]\n",
      "MSRP     int64\n",
      "count    int32\n",
      "dtype: object\n"
     ]
    }
   ],
   "source": [
    "# set the seed for reproducibility set.seed(1)\n",
    "# We will use the `rmultinom` function to construct our placebo.\n",
    "# Imagine the same number of cars as in 2010. (see `size` argument)\n",
    "# For each MSRP value, we will decide how many of these imaginary cars will\n",
    "# be sold at this price. The number of these imaginary cars to be sold at\n",
    "# the particular MSRP value will be proportional to the actual number of cars\n",
    "# sold in the pre-lottery distribution. (see `prob` argument) \n",
    "# We only want one placebo distribution. (see `n` argument) with \n",
    "# placebo_1 <- data.frame(MSRP = Beijing_pre[‘MSRP’],\n",
    "base.set_seed(1)\n",
    "Beijing_pre = uniqueMSRP.merge(Beijing10_sales, how='left', on = \"MSRP\")\n",
    "Beijing_pre[['count']] = Beijing_pre[['count']].fillna(value=0)\n",
    "Beijing_pre = Beijing_pre.sort_values('MSRP')\n",
    "# starts here: \n",
    "count =  stats.rmultinom(n = 1, size = sum(Beijing_pre['count']), prob = Beijing_pre['count'])\n",
    "count2 = count[:,0]\n",
    "d = {'MSRP': Beijing_pre['MSRP'], 'count' : count2}\n",
    "placebo_1 = pd.DataFrame(data=d)\n",
    "print(placebo_1)\n",
    "print(placebo_1.dtypes)"
   ]
  },
  {
   "cell_type": "code",
   "execution_count": 35,
   "metadata": {},
   "outputs": [],
   "source": [
    "# b)\n",
    "# build another placebo with the same number of observations like P Beijing AFTER"
   ]
  },
  {
   "cell_type": "code",
   "execution_count": 36,
   "metadata": {},
   "outputs": [],
   "source": [
    "# re-run line 11 to get 513 rows, not just 504 rows\n",
    "# aggregate sales at each price for 2011 (post-lottery)\n",
    "Beijing11_sales = Beijing[(Beijing['year']== 2011)].groupby('MSRP').aggregate({'sales':[sum]})\n",
    "Beijing11_sales = Beijing11_sales.unstack().reset_index().rename_axis(None, axis=1)\n",
    "Beijing11_sales = Beijing11_sales.drop(columns=['level_0', 'level_1']).rename(columns={0:'count'})\n",
    "# merge the MSRP and sales\n",
    "Beijing_post = uniqueMSRP.merge(Beijing11_sales, how='left', on = \"MSRP\")\n",
    "Beijing_post[['count']] = Beijing_post[['count']].fillna(value=0)\n",
    "Beijing_post = Beijing_post.sort_values('MSRP')\n",
    "# preview data\n",
    "# Beijing_post.head() # 513 rows × 2 columns"
   ]
  },
  {
   "cell_type": "code",
   "execution_count": 37,
   "metadata": {},
   "outputs": [
    {
     "name": "stdout",
     "output_type": "stream",
     "text": [
      "        MSRP  count\n",
      "482    20800      0\n",
      "374    29800     17\n",
      "338    32900   1308\n",
      "227    33800   1581\n",
      "388    34800    243\n",
      "..       ...    ...\n",
      "263   703600    157\n",
      "7     770000     35\n",
      "314   800400      1\n",
      "433   998000      1\n",
      "5    1127800    133\n",
      "\n",
      "[513 rows x 2 columns]\n",
      "MSRP     int64\n",
      "count    int32\n",
      "dtype: object\n"
     ]
    }
   ],
   "source": [
    "# Imagine the same number of cars as in 2011. (see `size` argument)\n",
    "# For each MSRP value, we will decide how many of these imaginary cars will\n",
    "# be sold at this price. The number of these imaginary cars to be sold at\n",
    "# the particular MSRP value will be proportional to the actual number of cars\n",
    "# sold in the pre-lottery distribution. (see `prob` argument) \n",
    "# We only want one placebo distribution. (see `n` argument) with \n",
    "# placebo_1 <- data.frame(MSRP = Beijing_pre[‘MSRP’],\n",
    "base.set_seed(1)\n",
    "Beijing_post = uniqueMSRP.merge(Beijing11_sales, how='left', on = \"MSRP\")\n",
    "Beijing_post[['count']] = Beijing_post[['count']].fillna(value=0)\n",
    "Beijing_post = Beijing_post.sort_values('MSRP')\n",
    "# Beijing_pre = uniqueMSRP.merge(Beijing10_sales, how='left', on = \"MSRP\")\n",
    "# Beijing_pre[['count']] = Beijing_pre[['count']].fillna(value=0)\n",
    "# Beijing_pre = Beijing_pre.sort_values('MSRP')\n",
    "# starts here: \n",
    "count =  stats.rmultinom(n = 1, size = sum(Beijing_post['count']), prob = Beijing_pre['count'])\n",
    "# I just changed the size argument to Beijing_post because we're supposed to have a sample\n",
    "# of the same size like P Beijing AFTER, with the rest essentially being the same \n",
    "count2 = count[:,0]\n",
    "d = {'MSRP': Beijing_post['MSRP'], 'count' : count2}\n",
    "placebo_2 = pd.DataFrame(data=d)\n",
    "print(placebo_2)\n",
    "print(placebo_2.dtypes)"
   ]
  },
  {
   "cell_type": "code",
   "execution_count": 38,
   "metadata": {},
   "outputs": [],
   "source": [
    "# c\n",
    "# Do they appear to be drawn from the same distribution?"
   ]
  },
  {
   "cell_type": "code",
   "execution_count": 39,
   "metadata": {},
   "outputs": [
    {
     "data": {
      "text/plain": [
       "Text(0.5, 1.0, 'Placebo 1 v. Placebo 2')"
      ]
     },
     "execution_count": 39,
     "metadata": {},
     "output_type": "execute_result"
    },
    {
     "data": {
      "image/png": "[encoded data removed]",
      "text/plain": [
       "<Figure size 432x288 with 1 Axes>"
      ]
     },
     "metadata": {
      "needs_background": "light"
     },
     "output_type": "display_data"
    }
   ],
   "source": [
    "fig, ax = plt.subplots()\n",
    "ax = sns.distplot(placebo_1['MSRP'], ax=ax, kde=False, norm_hist=True)\n",
    "ax = sns.distplot(placebo_2['MSRP'], ax=ax, kde=False, norm_hist=True)\n",
    "plt.xlabel(\"MSRP\", size=12)\n",
    "plt.ylabel(\"Density\", size=14)\n",
    "plt.title(\"Placebo 1 v. Placebo 2\", size=18)"
   ]
  },
  {
   "cell_type": "code",
   "execution_count": 40,
   "metadata": {},
   "outputs": [],
   "source": [
    "# Yes, they do appear very similar, a difference is not noticeable with the bare eye. \n",
    "# That makes sense because the placebo data is our null, meaning as if there was no black market (while we hypothesize that there is one given the actual/ empirical data).\n",
    "# But I shall investigate that in more detail below. "
   ]
  },
  {
   "cell_type": "code",
   "execution_count": 41,
   "metadata": {},
   "outputs": [],
   "source": [
    "# Exercise 3.4"
   ]
  },
  {
   "cell_type": "code",
   "execution_count": 42,
   "metadata": {},
   "outputs": [],
   "source": [
    "# OH Chris: placebo is what would happen if there was no black market (the null) v. empirical is what actually happens"
   ]
  },
  {
   "cell_type": "code",
   "execution_count": 43,
   "metadata": {},
   "outputs": [],
   "source": [
    "# a  "
   ]
  },
  {
   "cell_type": "code",
   "execution_count": 44,
   "metadata": {},
   "outputs": [],
   "source": [
    "# use increments of 5000 \n",
    "bandwidth = []\n",
    "for i in range(0, 100005, 5000):\n",
    "    bandwidth.append(i)"
   ]
  },
  {
   "cell_type": "code",
   "execution_count": 45,
   "metadata": {},
   "outputs": [
    {
     "name": "stderr",
     "output_type": "stream",
     "text": [
      "R[write to console]: Computing Transport Costs...\n",
      "\n"
     ]
    },
    {
     "name": "stdout",
     "output_type": "stream",
     "text": [
      "================================================================================\n"
     ]
    },
    {
     "name": "stderr",
     "output_type": "stream",
     "text": [
      "R[write to console]: The transport cost for the specified bandwidths have been computed.\n",
      "\n"
     ]
    },
    {
     "name": "stdout",
     "output_type": "stream",
     "text": [
      "    bandwidth      main\n",
      "1           0  0.013586\n",
      "2        5000  0.001516\n",
      "3       10000  0.000621\n",
      "4       15000  0.000578\n",
      "5       20000  0.000556\n",
      "6       25000  0.000438\n",
      "7       30000  0.000386\n",
      "8       35000  0.000385\n",
      "9       40000  0.000385\n",
      "10      45000  0.000385\n",
      "11      50000  0.000037\n",
      "12      55000  0.000037\n",
      "13      60000  0.000037\n",
      "14      65000  0.000037\n",
      "15      70000  0.000013\n",
      "16      75000  0.000013\n",
      "17      80000  0.000013\n",
      "18      85000  0.000013\n",
      "19      90000  0.000013\n",
      "20      95000  0.000013\n",
      "21     100000  0.000013\n"
     ]
    }
   ],
   "source": [
    "transport_cost_placebos = diftrans.diftrans(pre_main = placebo_1, post_main = placebo_2, bandwidth_seq = bandwidth)\n",
    "# The transport cost for the specified bandwidths have been computed\n",
    "print(transport_cost_placebos)"
   ]
  },
  {
   "cell_type": "code",
   "execution_count": 46,
   "metadata": {},
   "outputs": [],
   "source": [
    "# b "
   ]
  },
  {
   "cell_type": "code",
   "execution_count": 47,
   "metadata": {},
   "outputs": [
    {
     "name": "stderr",
     "output_type": "stream",
     "text": [
      "R[write to console]: Computing Transport Costs...\n",
      "\n"
     ]
    },
    {
     "name": "stdout",
     "output_type": "stream",
     "text": [
      "================================================================================\n"
     ]
    },
    {
     "name": "stderr",
     "output_type": "stream",
     "text": [
      "R[write to console]: The transport cost for the specified bandwidths have been computed.\n",
      "\n"
     ]
    },
    {
     "name": "stdout",
     "output_type": "stream",
     "text": [
      "    bandwidth      main\n",
      "1           0  0.353123\n",
      "2        5000  0.177859\n",
      "3       10000  0.151831\n",
      "4       15000  0.138059\n",
      "5       20000  0.123160\n",
      "6       25000  0.100769\n",
      "7       30000  0.088075\n",
      "8       35000  0.077251\n",
      "9       40000  0.064889\n",
      "10      45000  0.055253\n",
      "11      50000  0.053762\n",
      "12      55000  0.053758\n",
      "13      60000  0.051261\n",
      "14      65000  0.050689\n",
      "15      70000  0.040988\n",
      "16      75000  0.040815\n",
      "17      80000  0.039061\n",
      "18      85000  0.038952\n",
      "19      90000  0.030705\n",
      "20      95000  0.028104\n",
      "21     100000  0.027120\n"
     ]
    }
   ],
   "source": [
    "transport_cost_observed = diftrans.diftrans(pre_main = Beijing_pre, post_main = Beijing_post, bandwidth_seq = bandwidth)\n",
    "print(transport_cost_observed)"
   ]
  },
  {
   "cell_type": "code",
   "execution_count": 48,
   "metadata": {},
   "outputs": [],
   "source": [
    "# c "
   ]
  },
  {
   "cell_type": "code",
   "execution_count": 49,
   "metadata": {},
   "outputs": [
    {
     "data": {
      "image/png": "[encoded data removed]",
      "text/plain": [
       "<Figure size 432x288 with 1 Axes>"
      ]
     },
     "metadata": {
      "needs_background": "light"
     },
     "output_type": "display_data"
    }
   ],
   "source": [
    "sns.lineplot(transport_cost_observed[\"bandwidth\"], transport_cost_observed[\"main\"])\n",
    "sns.lineplot(transport_cost_placebos[\"bandwidth\"], transport_cost_placebos[\"main\"])\n",
    "plt.title('Placebo Costs (orange) v. Empirical Costs (blue)')\n",
    "plt.xlabel('Bandwidth (d)')\n",
    "plt.ylabel('Costs (MSRP)')\n",
    "plt.show()"
   ]
  },
  {
   "cell_type": "code",
   "execution_count": 50,
   "metadata": {},
   "outputs": [],
   "source": [
    "# d "
   ]
  },
  {
   "cell_type": "code",
   "execution_count": 51,
   "metadata": {},
   "outputs": [
    {
     "data": {
      "text/html": [
       "<div>\n",
       "<style scoped>\n",
       "    .dataframe tbody tr th:only-of-type {\n",
       "        vertical-align: middle;\n",
       "    }\n",
       "\n",
       "    .dataframe tbody tr th {\n",
       "        vertical-align: top;\n",
       "    }\n",
       "\n",
       "    .dataframe thead th {\n",
       "        text-align: right;\n",
       "    }\n",
       "</style>\n",
       "<table border=\"1\" class=\"dataframe\">\n",
       "  <thead>\n",
       "    <tr style=\"text-align: right;\">\n",
       "      <th></th>\n",
       "      <th>bandwidth</th>\n",
       "      <th>main</th>\n",
       "    </tr>\n",
       "  </thead>\n",
       "  <tbody>\n",
       "    <tr>\n",
       "      <th>6</th>\n",
       "      <td>25000</td>\n",
       "      <td>0.000438</td>\n",
       "    </tr>\n",
       "    <tr>\n",
       "      <th>7</th>\n",
       "      <td>30000</td>\n",
       "      <td>0.000386</td>\n",
       "    </tr>\n",
       "    <tr>\n",
       "      <th>8</th>\n",
       "      <td>35000</td>\n",
       "      <td>0.000385</td>\n",
       "    </tr>\n",
       "    <tr>\n",
       "      <th>9</th>\n",
       "      <td>40000</td>\n",
       "      <td>0.000385</td>\n",
       "    </tr>\n",
       "    <tr>\n",
       "      <th>10</th>\n",
       "      <td>45000</td>\n",
       "      <td>0.000385</td>\n",
       "    </tr>\n",
       "    <tr>\n",
       "      <th>11</th>\n",
       "      <td>50000</td>\n",
       "      <td>0.000037</td>\n",
       "    </tr>\n",
       "    <tr>\n",
       "      <th>12</th>\n",
       "      <td>55000</td>\n",
       "      <td>0.000037</td>\n",
       "    </tr>\n",
       "    <tr>\n",
       "      <th>13</th>\n",
       "      <td>60000</td>\n",
       "      <td>0.000037</td>\n",
       "    </tr>\n",
       "    <tr>\n",
       "      <th>14</th>\n",
       "      <td>65000</td>\n",
       "      <td>0.000037</td>\n",
       "    </tr>\n",
       "    <tr>\n",
       "      <th>15</th>\n",
       "      <td>70000</td>\n",
       "      <td>0.000013</td>\n",
       "    </tr>\n",
       "    <tr>\n",
       "      <th>16</th>\n",
       "      <td>75000</td>\n",
       "      <td>0.000013</td>\n",
       "    </tr>\n",
       "    <tr>\n",
       "      <th>17</th>\n",
       "      <td>80000</td>\n",
       "      <td>0.000013</td>\n",
       "    </tr>\n",
       "    <tr>\n",
       "      <th>18</th>\n",
       "      <td>85000</td>\n",
       "      <td>0.000013</td>\n",
       "    </tr>\n",
       "    <tr>\n",
       "      <th>19</th>\n",
       "      <td>90000</td>\n",
       "      <td>0.000013</td>\n",
       "    </tr>\n",
       "    <tr>\n",
       "      <th>20</th>\n",
       "      <td>95000</td>\n",
       "      <td>0.000013</td>\n",
       "    </tr>\n",
       "    <tr>\n",
       "      <th>21</th>\n",
       "      <td>100000</td>\n",
       "      <td>0.000013</td>\n",
       "    </tr>\n",
       "  </tbody>\n",
       "</table>\n",
       "</div>"
      ],
      "text/plain": [
       "    bandwidth      main\n",
       "6       25000  0.000438\n",
       "7       30000  0.000386\n",
       "8       35000  0.000385\n",
       "9       40000  0.000385\n",
       "10      45000  0.000385\n",
       "11      50000  0.000037\n",
       "12      55000  0.000037\n",
       "13      60000  0.000037\n",
       "14      65000  0.000037\n",
       "15      70000  0.000013\n",
       "16      75000  0.000013\n",
       "17      80000  0.000013\n",
       "18      85000  0.000013\n",
       "19      90000  0.000013\n",
       "20      95000  0.000013\n",
       "21     100000  0.000013"
      ]
     },
     "execution_count": 51,
     "metadata": {},
     "output_type": "execute_result"
    }
   ],
   "source": [
    "benchmark = 0.05\n",
    "transport_cost_placebos.loc[transport_cost_placebos[\"main\"]*100<benchmark]\n",
    "# The placebo cost is less than 0.05% for values of d >= 25,000 and d <= 100,000."
   ]
  },
  {
   "cell_type": "code",
   "execution_count": 52,
   "metadata": {},
   "outputs": [],
   "source": [
    "# e "
   ]
  },
  {
   "cell_type": "code",
   "execution_count": 53,
   "metadata": {},
   "outputs": [],
   "source": [
    "# As shown above in the table in d), the smallest d with a placebo costs of less than 0.05% is found at d = 25,000.\n",
    "\n",
    "# For empirical/ observed transport costs, the associated value is approx. 0.100769 for d = 25,000 (see table in b).\n",
    "# This is the estimate for the lower bound on the volume of black market transactions, the so-called before-and-after estimate."
   ]
  },
  {
   "cell_type": "markdown",
   "metadata": {},
   "source": [
    "## 3.6 Compute Differences-in-Transports Estimator"
   ]
  },
  {
   "cell_type": "code",
   "execution_count": 54,
   "metadata": {},
   "outputs": [],
   "source": [
    "# Exercise 3.5 "
   ]
  },
  {
   "cell_type": "code",
   "execution_count": 55,
   "metadata": {},
   "outputs": [],
   "source": [
    "# a "
   ]
  },
  {
   "cell_type": "code",
   "execution_count": 56,
   "metadata": {},
   "outputs": [],
   "source": [
    "bandwidth_cons = []\n",
    "for i in range(0, 50005, 5000):\n",
    "    bandwidth_cons.append(i)"
   ]
  },
  {
   "cell_type": "code",
   "execution_count": 75,
   "metadata": {},
   "outputs": [
    {
     "name": "stderr",
     "output_type": "stream",
     "text": [
      "R[write to console]: Computing Differences-in-Transports Estimator...\n",
      "\n",
      "R[write to console]: Note: you are using `conservative = T`.\n",
      "\n"
     ]
    },
    {
     "name": "stdout",
     "output_type": "stream",
     "text": [
      "================================================================================\n"
     ]
    },
    {
     "name": "stderr",
     "output_type": "stream",
     "text": [
      "R[write to console]: The conservative diff-in-transports estimator is 0.106214258132936 at d = 5000\n",
      "\n"
     ]
    },
    {
     "name": "stdout",
     "output_type": "stream",
     "text": [
      "    bandwidth      main    main2d   control      diff    diff2d\n",
      "1           0  0.353123  0.353123  0.298681  0.054443  0.054443\n",
      "2        5000  0.177859  0.151831  0.045617  0.132243  0.106214\n",
      "3       10000  0.151831  0.123160  0.020093  0.131737  0.103066\n",
      "4       15000  0.138059  0.088075  0.017838  0.120220  0.070237\n",
      "5       20000  0.123160  0.064889  0.013056  0.110104  0.051833\n",
      "6       25000  0.100769  0.053762  0.007158  0.093610  0.046604\n",
      "7       30000  0.088075  0.051261  0.006841  0.081234  0.044420\n",
      "8       35000  0.077251  0.040988  0.006663  0.070588  0.034325\n",
      "9       40000  0.064889  0.039061  0.006377  0.058512  0.032684\n",
      "10      45000  0.055253  0.030705  0.004319  0.050934  0.026386\n",
      "11      50000  0.053762  0.027120  0.004310  0.049453  0.022811\n"
     ]
    }
   ],
   "source": [
    "dit_1 = diftrans.diftrans(pre_main = Beijing_pre, post_main = Beijing_post, pre_control = Tianjin_pre, post_control = Tianjin_post, bandwidth_seq = bandwidth_cons, conservative = True) \n",
    "print(dit_1)"
   ]
  },
  {
   "cell_type": "code",
   "execution_count": 58,
   "metadata": {},
   "outputs": [],
   "source": [
    "# b "
   ]
  },
  {
   "cell_type": "code",
   "execution_count": 59,
   "metadata": {},
   "outputs": [
    {
     "name": "stdout",
     "output_type": "stream",
     "text": [
      "        MSRP  count\n",
      "482    20800      0\n",
      "374    29800     50\n",
      "338    32900   3136\n",
      "227    33800   3597\n",
      "388    34800    539\n",
      "..       ...    ...\n",
      "263   703600    350\n",
      "7     770000    101\n",
      "314   800400      2\n",
      "433   998000      6\n",
      "5    1127800    325\n",
      "\n",
      "[513 rows x 2 columns]\n",
      "MSRP     int64\n",
      "count    int32\n",
      "dtype: object\n"
     ]
    }
   ],
   "source": [
    "Beijing = Beijing_sample[(Beijing_sample['year']>= 2010) & (Beijing_sample['year'] < 2012)]\n",
    "uniqueMSRP = pd.DataFrame(Beijing.MSRP.unique()).rename(columns={0:'MSRP'})\n",
    "Beijing10_sales = Beijing[(Beijing['year']== 2010)].groupby('MSRP').aggregate({'sales':[sum]})\n",
    "Beijing10_sales = Beijing10_sales.unstack().reset_index().rename_axis(None, axis=1)\n",
    "Beijing10_sales = Beijing10_sales.drop(columns=['level_0', 'level_1']).rename(columns={0:'count'})\n",
    "Beijing_pre = uniqueMSRP.merge(Beijing10_sales, how='left', on = \"MSRP\")\n",
    "Beijing_pre[['count']] = Beijing_pre[['count']].fillna(value=0)\n",
    "Beijing_pre = Beijing_pre.sort_values('MSRP')\n",
    "base.set_seed(1)\n",
    "Beijing_pre = uniqueMSRP.merge(Beijing10_sales, how='left', on = \"MSRP\")\n",
    "Beijing_pre[['count']] = Beijing_pre[['count']].fillna(value=0)\n",
    "Beijing_pre = Beijing_pre.sort_values('MSRP')\n",
    "count =  stats.rmultinom(n = 1, size = sum(Beijing_pre['count']), prob = Beijing_pre['count'])\n",
    "count2 = count[:,0]\n",
    "d = {'MSRP': Beijing_pre['MSRP'], 'count' : count2}\n",
    "placebo_Beijing_1 = pd.DataFrame(data=d)\n",
    "print(placebo_Beijing_1)\n",
    "print(placebo_Beijing_1.dtypes)"
   ]
  },
  {
   "cell_type": "code",
   "execution_count": 60,
   "metadata": {},
   "outputs": [],
   "source": [
    "# c "
   ]
  },
  {
   "cell_type": "code",
   "execution_count": 61,
   "metadata": {},
   "outputs": [
    {
     "name": "stdout",
     "output_type": "stream",
     "text": [
      "        MSRP  count\n",
      "482    20800      0\n",
      "374    29800     17\n",
      "338    32900   1308\n",
      "227    33800   1581\n",
      "388    34800    243\n",
      "..       ...    ...\n",
      "263   703600    157\n",
      "7     770000     35\n",
      "314   800400      1\n",
      "433   998000      1\n",
      "5    1127800    133\n",
      "\n",
      "[513 rows x 2 columns]\n",
      "MSRP     int64\n",
      "count    int32\n",
      "dtype: object\n"
     ]
    }
   ],
   "source": [
    "Beijing11_sales = Beijing[(Beijing['year']== 2011)].groupby('MSRP').aggregate({'sales':[sum]})\n",
    "Beijing11_sales = Beijing11_sales.unstack().reset_index().rename_axis(None, axis=1)\n",
    "Beijing11_sales = Beijing11_sales.drop(columns=['level_0', 'level_1']).rename(columns={0:'count'})\n",
    "Beijing_post = uniqueMSRP.merge(Beijing11_sales, how='left', on = \"MSRP\")\n",
    "Beijing_post[['count']] = Beijing_post[['count']].fillna(value=0)\n",
    "Beijing_post = Beijing_post.sort_values('MSRP')\n",
    "base.set_seed(1)\n",
    "Beijing_post = uniqueMSRP.merge(Beijing11_sales, how='left', on = \"MSRP\")\n",
    "Beijing_post[['count']] = Beijing_post[['count']].fillna(value=0)\n",
    "Beijing_post = Beijing_post.sort_values('MSRP')\n",
    "count =  stats.rmultinom(n = 1, size = sum(Beijing_post['count']), prob = Beijing_pre['count'])\n",
    "count2 = count[:,0]\n",
    "d = {'MSRP': Beijing_post['MSRP'], 'count' : count2}\n",
    "placebo_Beijing_2 = pd.DataFrame(data=d)\n",
    "print(placebo_Beijing_2)\n",
    "print(placebo_Beijing_2.dtypes)"
   ]
  },
  {
   "cell_type": "code",
   "execution_count": 62,
   "metadata": {},
   "outputs": [],
   "source": [
    "# d "
   ]
  },
  {
   "cell_type": "code",
   "execution_count": 63,
   "metadata": {},
   "outputs": [
    {
     "name": "stdout",
     "output_type": "stream",
     "text": [
      "        MSRP  count\n",
      "448    20800      0\n",
      "464    28800      0\n",
      "358    29800     54\n",
      "494    30900      0\n",
      "327    32900    593\n",
      "..       ...    ...\n",
      "92    698600     19\n",
      "272   703600     26\n",
      "218   770000      4\n",
      "426   800400      0\n",
      "237  1127800     13\n",
      "\n",
      "[504 rows x 2 columns]\n",
      "MSRP     int64\n",
      "count    int32\n",
      "dtype: object\n"
     ]
    }
   ],
   "source": [
    "Tianjin = Tianjin_sample[(Tianjin_sample['year']>= 2010) & (Tianjin_sample['year'] < 2012)]\n",
    "uniqueMSRP = pd.DataFrame(Tianjin.MSRP.unique()).rename(columns={0:'MSRP'})\n",
    "Tianjin10_sales = Tianjin[(Tianjin['year']== 2010)].groupby('MSRP').aggregate({'sales':[sum]})\n",
    "Tianjin10_sales = Tianjin10_sales.unstack().reset_index().rename_axis(None, axis=1)\n",
    "Tianjin10_sales = Tianjin10_sales.drop(columns=['level_0', 'level_1']).rename(columns={0:'count'})\n",
    "Tianjin_pre = uniqueMSRP.merge(Tianjin10_sales, how='left', on = \"MSRP\")\n",
    "Tianjin_pre[['count']] = Tianjin_pre[['count']].fillna(value=0)\n",
    "Tianjin_pre = Tianjin_pre.sort_values('MSRP')\n",
    "base.set_seed(1)\n",
    "Tianjin_pre = uniqueMSRP.merge(Tianjin10_sales, how='left', on = \"MSRP\")\n",
    "Tianjin_pre[['count']] = Tianjin_pre[['count']].fillna(value=0)\n",
    "Tianjin_pre = Tianjin_pre.sort_values('MSRP')\n",
    "count =  stats.rmultinom(n = 1, size = sum(Tianjin_pre['count']), prob = Tianjin_pre['count'])\n",
    "count2 = count[:,0]\n",
    "d = {'MSRP': Tianjin_pre['MSRP'], 'count' : count2}\n",
    "placebo_Tianjin_1 = pd.DataFrame(data=d)\n",
    "print(placebo_Tianjin_1)\n",
    "print(placebo_Tianjin_1.dtypes)"
   ]
  },
  {
   "cell_type": "code",
   "execution_count": 64,
   "metadata": {},
   "outputs": [],
   "source": [
    "# e\n",
    "# I assume that there's a typo in the wording and what you're actually \n",
    "# asking for is \"Construct a placebo distribution called placebo_Tianjin_2\n",
    "# that is sampled from Tianjin_pre and whose size is the number of \n",
    "# Tianjin cars in *2011*, not 2010 (because I did that above in d).\""
   ]
  },
  {
   "cell_type": "code",
   "execution_count": 65,
   "metadata": {},
   "outputs": [
    {
     "name": "stdout",
     "output_type": "stream",
     "text": [
      "        MSRP  count\n",
      "448    20800      0\n",
      "464    28800      0\n",
      "358    29800     58\n",
      "494    30900      0\n",
      "327    32900    663\n",
      "..       ...    ...\n",
      "92    698600     21\n",
      "272   703600     28\n",
      "218   770000      5\n",
      "426   800400      0\n",
      "237  1127800     14\n",
      "\n",
      "[504 rows x 2 columns]\n",
      "MSRP     int64\n",
      "count    int32\n",
      "dtype: object\n"
     ]
    }
   ],
   "source": [
    "Tianjin11_sales = Tianjin[(Tianjin['year']== 2011)].groupby('MSRP').aggregate({'sales':[sum]})\n",
    "Tianjin11_sales = Tianjin11_sales.unstack().reset_index().rename_axis(None, axis=1)\n",
    "Tianjin11_sales = Tianjin11_sales.drop(columns=['level_0', 'level_1']).rename(columns={0:'count'})\n",
    "Tianjin_post = uniqueMSRP.merge(Tianjin11_sales, how='left', on = \"MSRP\")\n",
    "Tianjin_post[['count']] = Tianjin_post[['count']].fillna(value=0)\n",
    "Tianjin_post = Tianjin_post.sort_values('MSRP')\n",
    "base.set_seed(1)\n",
    "Tianjin_post = uniqueMSRP.merge(Tianjin11_sales, how='left', on = \"MSRP\")\n",
    "Tianjin_post[['count']] = Tianjin_post[['count']].fillna(value=0)\n",
    "Tianjin_post = Tianjin_post.sort_values('MSRP')\n",
    "count =  stats.rmultinom(n = 1, size = sum(Tianjin_post['count']), prob = Tianjin_pre['count'])\n",
    "count2 = count[:,0]\n",
    "d = {'MSRP': Tianjin_post['MSRP'], 'count' : count2}\n",
    "placebo_Tianjin_2 = pd.DataFrame(data=d)\n",
    "print(placebo_Tianjin_2)\n",
    "print(placebo_Tianjin_2.dtypes)"
   ]
  },
  {
   "cell_type": "code",
   "execution_count": 66,
   "metadata": {},
   "outputs": [],
   "source": [
    "# f"
   ]
  },
  {
   "cell_type": "code",
   "execution_count": 67,
   "metadata": {},
   "outputs": [
    {
     "name": "stderr",
     "output_type": "stream",
     "text": [
      "R[write to console]: Computing Differences-in-Transports Estimator...\n",
      "\n",
      "R[write to console]: Note: you are using `conservative = T`.\n",
      "\n"
     ]
    },
    {
     "name": "stdout",
     "output_type": "stream",
     "text": [
      "================================================================================\n"
     ]
    },
    {
     "name": "stderr",
     "output_type": "stream",
     "text": [
      "R[write to console]: The conservative diff-in-transports estimator is 0.00109067067882007 at d = 0\n",
      "\n"
     ]
    },
    {
     "name": "stdout",
     "output_type": "stream",
     "text": [
      "    bandwidth      main    main2d   control      diff    diff2d\n",
      "1           0  0.013586  0.013586  0.012495  0.001091  0.001091\n",
      "2        5000  0.001516  0.000621  0.001156  0.000360 -0.000535\n",
      "3       10000  0.000621  0.000556  0.000106  0.000515  0.000449\n",
      "4       15000  0.000578  0.000386  0.000073  0.000506  0.000313\n",
      "5       20000  0.000556  0.000385  0.000049  0.000507  0.000336\n",
      "6       25000  0.000438  0.000037  0.000030  0.000408  0.000008\n",
      "7       30000  0.000386  0.000037  0.000019  0.000366  0.000018\n",
      "8       35000  0.000385  0.000013  0.000002  0.000383  0.000011\n",
      "9       40000  0.000385  0.000013  0.000002  0.000383  0.000011\n",
      "10      45000  0.000385  0.000013  0.000002  0.000383  0.000011\n",
      "11      50000  0.000037  0.000013  0.000002  0.000035  0.000011\n"
     ]
    }
   ],
   "source": [
    "dit_2 = diftrans.diftrans(pre_main = placebo_Beijing_1, post_main = placebo_Beijing_2, pre_control = placebo_Tianjin_1, post_control = placebo_Tianjin_2, bandwidth_seq = bandwidth_cons, conservative = True) \n",
    "print(dit_2)"
   ]
  },
  {
   "cell_type": "code",
   "execution_count": 68,
   "metadata": {},
   "outputs": [],
   "source": [
    "# g "
   ]
  },
  {
   "cell_type": "code",
   "execution_count": 69,
   "metadata": {},
   "outputs": [
    {
     "data": {
      "text/plain": [
       "1     0.001091\n",
       "2     0.000535\n",
       "3     0.000449\n",
       "4     0.000313\n",
       "5     0.000336\n",
       "6     0.000008\n",
       "7     0.000018\n",
       "8     0.000011\n",
       "9     0.000011\n",
       "10    0.000011\n",
       "11    0.000011\n",
       "Name: diff2d, dtype: float64"
      ]
     },
     "execution_count": 69,
     "metadata": {},
     "output_type": "execute_result"
    }
   ],
   "source": [
    "diff2d = abs(dit_2[\"diff2d\"])\n",
    "diff2d"
   ]
  },
  {
   "cell_type": "code",
   "execution_count": 70,
   "metadata": {},
   "outputs": [
    {
     "data": {
      "image/png": "[encoded data removed]",
      "text/plain": [
       "<Figure size 432x288 with 1 Axes>"
      ]
     },
     "metadata": {
      "needs_background": "light"
     },
     "output_type": "display_data"
    }
   ],
   "source": [
    "sns.lineplot(transport_cost_observed[\"bandwidth\"], diff2d)\n",
    "sns.lineplot(transport_cost_placebos[\"bandwidth\"], diff2d)\n",
    "plt.title('Placebo Differences-In-Transports Estimator')\n",
    "plt.xlabel('Bandwidth (d)')\n",
    "plt.ylabel('Absolute Values')\n",
    "plt.show()"
   ]
  },
  {
   "cell_type": "code",
   "execution_count": 71,
   "metadata": {},
   "outputs": [],
   "source": [
    "# h "
   ]
  },
  {
   "cell_type": "code",
   "execution_count": 72,
   "metadata": {},
   "outputs": [
    {
     "data": {
      "text/html": [
       "<div>\n",
       "<style scoped>\n",
       "    .dataframe tbody tr th:only-of-type {\n",
       "        vertical-align: middle;\n",
       "    }\n",
       "\n",
       "    .dataframe tbody tr th {\n",
       "        vertical-align: top;\n",
       "    }\n",
       "\n",
       "    .dataframe thead th {\n",
       "        text-align: right;\n",
       "    }\n",
       "</style>\n",
       "<table border=\"1\" class=\"dataframe\">\n",
       "  <thead>\n",
       "    <tr style=\"text-align: right;\">\n",
       "      <th></th>\n",
       "      <th>bandwidth</th>\n",
       "      <th>main</th>\n",
       "      <th>main2d</th>\n",
       "      <th>control</th>\n",
       "      <th>diff</th>\n",
       "      <th>diff2d</th>\n",
       "    </tr>\n",
       "  </thead>\n",
       "  <tbody>\n",
       "    <tr>\n",
       "      <th>3</th>\n",
       "      <td>10000</td>\n",
       "      <td>0.000621</td>\n",
       "      <td>0.000556</td>\n",
       "      <td>0.000106</td>\n",
       "      <td>0.000515</td>\n",
       "      <td>0.000449</td>\n",
       "    </tr>\n",
       "    <tr>\n",
       "      <th>4</th>\n",
       "      <td>15000</td>\n",
       "      <td>0.000578</td>\n",
       "      <td>0.000386</td>\n",
       "      <td>0.000073</td>\n",
       "      <td>0.000506</td>\n",
       "      <td>0.000313</td>\n",
       "    </tr>\n",
       "    <tr>\n",
       "      <th>5</th>\n",
       "      <td>20000</td>\n",
       "      <td>0.000556</td>\n",
       "      <td>0.000385</td>\n",
       "      <td>0.000049</td>\n",
       "      <td>0.000507</td>\n",
       "      <td>0.000336</td>\n",
       "    </tr>\n",
       "    <tr>\n",
       "      <th>6</th>\n",
       "      <td>25000</td>\n",
       "      <td>0.000438</td>\n",
       "      <td>0.000037</td>\n",
       "      <td>0.000030</td>\n",
       "      <td>0.000408</td>\n",
       "      <td>0.000008</td>\n",
       "    </tr>\n",
       "    <tr>\n",
       "      <th>7</th>\n",
       "      <td>30000</td>\n",
       "      <td>0.000386</td>\n",
       "      <td>0.000037</td>\n",
       "      <td>0.000019</td>\n",
       "      <td>0.000366</td>\n",
       "      <td>0.000018</td>\n",
       "    </tr>\n",
       "    <tr>\n",
       "      <th>8</th>\n",
       "      <td>35000</td>\n",
       "      <td>0.000385</td>\n",
       "      <td>0.000013</td>\n",
       "      <td>0.000002</td>\n",
       "      <td>0.000383</td>\n",
       "      <td>0.000011</td>\n",
       "    </tr>\n",
       "    <tr>\n",
       "      <th>9</th>\n",
       "      <td>40000</td>\n",
       "      <td>0.000385</td>\n",
       "      <td>0.000013</td>\n",
       "      <td>0.000002</td>\n",
       "      <td>0.000383</td>\n",
       "      <td>0.000011</td>\n",
       "    </tr>\n",
       "    <tr>\n",
       "      <th>10</th>\n",
       "      <td>45000</td>\n",
       "      <td>0.000385</td>\n",
       "      <td>0.000013</td>\n",
       "      <td>0.000002</td>\n",
       "      <td>0.000383</td>\n",
       "      <td>0.000011</td>\n",
       "    </tr>\n",
       "    <tr>\n",
       "      <th>11</th>\n",
       "      <td>50000</td>\n",
       "      <td>0.000037</td>\n",
       "      <td>0.000013</td>\n",
       "      <td>0.000002</td>\n",
       "      <td>0.000035</td>\n",
       "      <td>0.000011</td>\n",
       "    </tr>\n",
       "  </tbody>\n",
       "</table>\n",
       "</div>"
      ],
      "text/plain": [
       "    bandwidth      main    main2d   control      diff    diff2d\n",
       "3       10000  0.000621  0.000556  0.000106  0.000515  0.000449\n",
       "4       15000  0.000578  0.000386  0.000073  0.000506  0.000313\n",
       "5       20000  0.000556  0.000385  0.000049  0.000507  0.000336\n",
       "6       25000  0.000438  0.000037  0.000030  0.000408  0.000008\n",
       "7       30000  0.000386  0.000037  0.000019  0.000366  0.000018\n",
       "8       35000  0.000385  0.000013  0.000002  0.000383  0.000011\n",
       "9       40000  0.000385  0.000013  0.000002  0.000383  0.000011\n",
       "10      45000  0.000385  0.000013  0.000002  0.000383  0.000011\n",
       "11      50000  0.000037  0.000013  0.000002  0.000035  0.000011"
      ]
     },
     "execution_count": 72,
     "metadata": {},
     "output_type": "execute_result"
    }
   ],
   "source": [
    "benchmark = 0.05\n",
    "dit_2.loc[diff2d*100<benchmark]\n",
    "# The placebo cost is less than 0.05% for values of d >= 10,000 and d <= 50,000. "
   ]
  },
  {
   "cell_type": "code",
   "execution_count": 73,
   "metadata": {},
   "outputs": [],
   "source": [
    "# i"
   ]
  },
  {
   "cell_type": "code",
   "execution_count": 74,
   "metadata": {},
   "outputs": [],
   "source": [
    "# As shown above in the table in d), I consider d-values >= 10,000 and <= 50,000.\n",
    "\n",
    "# Among these values, the largest value in diff2d from part a) yields:\n",
    "# d = 10,000 which is associated with a diff2d of approx. 0.103066 \n",
    "# (and a conservative transport cost for Beijing of approx. 0.123160).\n",
    "# This is the differences-in-transports estimator. "
   ]
  },
  {
   "cell_type": "code",
   "execution_count": null,
   "metadata": {},
   "outputs": [],
   "source": []
  }
 ],
 "metadata": {
  "kernelspec": {
   "display_name": "Python 3",
   "language": "python",
   "name": "python3"
  },
  "language_info": {
   "codemirror_mode": {
    "name": "ipython",
    "version": 3
   },
   "file_extension": ".py",
   "mimetype": "text/x-python",
   "name": "python",
   "nbconvert_exporter": "python",
   "pygments_lexer": "ipython3",
   "version": "3.8.3"
  }
 },
 "nbformat": 4,
 "nbformat_minor": 4
}
